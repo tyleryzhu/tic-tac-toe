{
 "cells": [
  {
   "cell_type": "markdown",
   "metadata": {},
   "source": [
    "Creating a Tic-Tac-Toe AI using Minimax\n",
    "--------\n",
    "I'll refer to the board as follows: \n",
    "\n",
    "1 | 2 | 3\n",
    "_________\n",
    "4 | 5 | 6 \n",
    "_________\n",
    "7 | 8 | 9\n"
   ]
  },
  {
   "cell_type": "code",
   "execution_count": 2,
   "metadata": {
    "ExecuteTime": {
     "end_time": "2018-12-19T02:36:03.173095Z",
     "start_time": "2018-12-19T02:36:03.169485Z"
    }
   },
   "outputs": [],
   "source": [
    "# 1 | 2 | 3\n",
    "#-----------\n",
    "# 4 | 5 | 6\n",
    "#-----------\n",
    "# 7 | 8 | 9"
   ]
  },
  {
   "cell_type": "code",
   "execution_count": 14,
   "metadata": {
    "ExecuteTime": {
     "end_time": "2018-12-19T03:49:33.580801Z",
     "start_time": "2018-12-19T03:49:33.567023Z"
    }
   },
   "outputs": [],
   "source": [
    "class TicTacToe:\n",
    "    def __init__(self):\n",
    "        c = input(\"Welcome to Tic-Tac-Toe! Which player will be going first, X or O?\")\n",
    "        if not (c == 'X' or c == 'O'):\n",
    "            c = input(\"Try again. Which player will be going first, X or O?\")\n",
    "        self.board = [[' ', ' ', ' '],\n",
    "                      [' ', ' ', ' '],\n",
    "                      [' ', ' ', ' ']]\n",
    "        self.turn = 0 #players 0 and 1\n",
    "        self.piece = c\n",
    "        self.mainEventLoop()\n",
    "    \n",
    "    def display(self):\n",
    "        print(\"It is currently Player {}'s turn to make a move ({})\".format(self.turn+1, self.piece))\n",
    "        print(\"The board looks like this:\")\n",
    "        print(''' \n",
    "               {0} | {1} | {2} \n",
    "              -----------\n",
    "               {3} | {4} | {5}\n",
    "              -----------\n",
    "               {6} | {7} | {8}\n",
    "              '''.format(*[i for sublist in self.board for i in sublist]))\n",
    "    \n",
    "    def makeMove(self):\n",
    "        move = int(input('''Where would you like to move? Input your move as one of the following squares.\\n\n",
    "               0 | 1 | 2 \n",
    "              -----------\n",
    "               3 | 4 | 5\n",
    "              -----------\n",
    "               6 | 7 | 8\n",
    "              '''))\n",
    "        r,c = move//3, move % 3\n",
    "        while r < 0 or r > 2 or c < 0 or c > 2 or self.board[r][c] != ' ':\n",
    "            move = int(input(\"That square is invalid. Please pick a valid square\"))\n",
    "            r,c = move//3, move % 3\n",
    "        self.board[r][c] = self.piece\n",
    "        self.turn = (self.turn+1) % 2\n",
    "        self.piece = 'X' if self.piece == 'O' else 'O'\n",
    "    \n",
    "    def endGame(self):\n",
    "        # Rows \n",
    "        if (self.board[0][0] != ' ' and self.board[0][0] == self.board[0][1] and self.board[0][0] == self.board[0][2]) or \\\n",
    "            (self.board[1][0] != ' ' and self.board[1][0] == self.board[1][1] and self.board[1][0] == self.board[1][2]) or \\\n",
    "            (self.board[2][0] != ' ' and self.board[2][0] == self.board[2][1] and self.board[2][0] == self.board[2][2]):\n",
    "            return True\n",
    "        # Columns\n",
    "        if (self.board[0][0] != ' ' and self.board[0][0] == self.board[1][0] and self.board[0][0] == self.board[2][0]) or \\\n",
    "            (self.board[0][1] != ' ' and self.board[0][1] == self.board[1][1] and self.board[0][1] == self.board[2][1]) or \\\n",
    "            (self.board[0][2] != ' ' and self.board[0][2] == self.board[1][2] and self.board[0][2] == self.board[2][2]): \n",
    "            return True\n",
    "        # Diagonals\n",
    "        if (self.board[0][0] != ' ' and self.board[0][0] == self.board[1][1] and self.board[0][0] == self.board[2][2]) or \\\n",
    "            (self.board[0][2] != ' ' and self.board[0][2] == self.board[1][1] and self.board[0][2] == self.board[2][0]):\n",
    "            return True\n",
    "        return False\n",
    "    \n",
    "    def mainEventLoop(self):\n",
    "        while not self.endGame():\n",
    "            self.display()\n",
    "            self.makeMove()\n",
    "        winner = ((self.turn+1) % 2) + 1\n",
    "        print(\"Congratulations to Player {} for winning!\".format(winner))"
   ]
  },
  {
   "cell_type": "code",
   "execution_count": null,
   "metadata": {
    "ExecuteTime": {
     "start_time": "2018-12-19T03:49:33.956Z"
    }
   },
   "outputs": [
    {
     "name": "stdout",
     "output_type": "stream",
     "text": [
      "Welcome to Tic-Tac-Toe! Which player will be going first, X or O?X\n",
      "It is currently Player 1's turn to make a move (X)\n",
      "The board looks like this:\n",
      " \n",
      "                 |   |   \n",
      "              -------------\n",
      "                 |   |  \n",
      "              -------------\n",
      "                 |   |  \n",
      "              \n"
     ]
    }
   ],
   "source": [
    "T = TicTacToe()"
   ]
  },
  {
   "cell_type": "code",
   "execution_count": null,
   "metadata": {},
   "outputs": [],
   "source": []
  }
 ],
 "metadata": {
  "kernelspec": {
   "display_name": "Python 3",
   "language": "python",
   "name": "python3"
  },
  "language_info": {
   "codemirror_mode": {
    "name": "ipython",
    "version": 3
   },
   "file_extension": ".py",
   "mimetype": "text/x-python",
   "name": "python",
   "nbconvert_exporter": "python",
   "pygments_lexer": "ipython3",
   "version": "3.6.5"
  },
  "latex_envs": {
   "LaTeX_envs_menu_present": true,
   "autoclose": false,
   "autocomplete": true,
   "bibliofile": "biblio.bib",
   "cite_by": "apalike",
   "current_citInitial": 1,
   "eqLabelWithNumbers": true,
   "eqNumInitial": 1,
   "hotkeys": {
    "equation": "Ctrl-E",
    "itemize": "Ctrl-I"
   },
   "labels_anchors": false,
   "latex_user_defs": false,
   "report_style_numbering": false,
   "user_envs_cfg": false
  },
  "toc": {
   "base_numbering": 1,
   "nav_menu": {},
   "number_sections": true,
   "sideBar": true,
   "skip_h1_title": false,
   "title_cell": "Table of Contents",
   "title_sidebar": "Contents",
   "toc_cell": false,
   "toc_position": {},
   "toc_section_display": true,
   "toc_window_display": false
  }
 },
 "nbformat": 4,
 "nbformat_minor": 2
}
